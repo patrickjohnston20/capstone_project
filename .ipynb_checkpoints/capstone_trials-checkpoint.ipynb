{
 "cells": [
  {
   "cell_type": "code",
   "execution_count": 1,
   "id": "7ba45a60",
   "metadata": {},
   "outputs": [],
   "source": [
    "import requests\n",
    "import pandas as pd\n",
    "import matplotlib.pyplot as plt\n",
    "import json"
   ]
  },
  {
   "cell_type": "code",
   "execution_count": 2,
   "id": "edc116f2",
   "metadata": {},
   "outputs": [],
   "source": [
    "with open(r\"C:\\Users\\patri\\Documents\\nss_main\\nss_dda10\\capstone_holygrail\\Data\\census_key.json\") as fi:\n",
    "    credentials = json.load(fi)"
   ]
  },
  {
   "cell_type": "code",
   "execution_count": 3,
   "id": "9f9754c5",
   "metadata": {},
   "outputs": [],
   "source": [
    "api_key = credentials[\"api_key\"]"
   ]
  },
  {
   "cell_type": "markdown",
   "id": "21ac6ceb",
   "metadata": {},
   "source": [
    "    Functions for Converting Json to dataframe with pandas"
   ]
  },
  {
   "cell_type": "code",
   "execution_count": 4,
   "id": "eaf16f76",
   "metadata": {},
   "outputs": [],
   "source": [
    "def json_to_data_frame(response):\n",
    "    \"\"\"\n",
    "    Convert response to dataframe\n",
    "    \"\"\"\n",
    "    return pd.DataFrame(response.json()[1:], columns=response.json()[0])"
   ]
  },
  {
   "cell_type": "markdown",
   "id": "5ad5b2e5",
   "metadata": {},
   "source": [
    "Setting  Base Url to reference"
   ]
  },
  {
   "cell_type": "code",
   "execution_count": 5,
   "id": "3beab55a",
   "metadata": {},
   "outputs": [],
   "source": [
    "base_url = \"https://api.census.gov/data/2021/cbp\""
   ]
  },
  {
   "cell_type": "markdown",
   "id": "0c96186b",
   "metadata": {},
   "source": [
    "Setting required parameters for API request"
   ]
  },
  {
   "cell_type": "code",
   "execution_count": 6,
   "id": "b5fdd9fd",
   "metadata": {},
   "outputs": [],
   "source": [
    "state_code = \"47\"  # Tennessee's FIPS code\n",
    "county_code = \"037\"  # Davidson County's FIPS code\n",
    "industry_variable = \"NAICS2017\" # Industry Group variable ( Looking for tourism, music, entertainment, etc)"
   ]
  },
  {
   "cell_type": "markdown",
   "id": "28816fcc",
   "metadata": {},
   "source": [
    "Adding other variables as needed."
   ]
  },
  {
   "cell_type": "code",
   "execution_count": 7,
   "id": "2f536947",
   "metadata": {},
   "outputs": [],
   "source": [
    "economic_variables = \"EMP,ESTAB,EMPSZES\""
   ]
  },
  {
   "cell_type": "code",
   "execution_count": 8,
   "id": "97d0a39d",
   "metadata": {},
   "outputs": [],
   "source": [
    "api_url = f\"{base_url}?get={economic_variables}&for=county:{county_code}&in=state:{state_code}&key={api_key}\""
   ]
  },
  {
   "cell_type": "markdown",
   "id": "3bc90985",
   "metadata": {},
   "source": [
    "Making API request and testing for success. Great success!"
   ]
  },
  {
   "cell_type": "code",
   "execution_count": 9,
   "id": "82e0a1bd",
   "metadata": {},
   "outputs": [
    {
     "data": {
      "text/plain": [
       "<Response [200]>"
      ]
     },
     "execution_count": 9,
     "metadata": {},
     "output_type": "execute_result"
    }
   ],
   "source": [
    "response = requests.get(api_url)\n",
    "response"
   ]
  },
  {
   "cell_type": "markdown",
   "id": "8ea2fda2",
   "metadata": {},
   "source": [
    "Making all columns visible"
   ]
  },
  {
   "cell_type": "code",
   "execution_count": 10,
   "id": "04dbf6fc",
   "metadata": {},
   "outputs": [],
   "source": [
    "pd.options.display.max_columns = None"
   ]
  },
  {
   "cell_type": "code",
   "execution_count": 11,
   "id": "3587475c",
   "metadata": {},
   "outputs": [
    {
     "data": {
      "text/plain": [
       "'[[\"EMP\",\"ESTAB\",\"EMPSZES\",\"state\",\"county\"],\\n[\"445200\",\"21052\",\"001\",\"47\",\"037\"],\\n[\"0\",\"10252\",\"210\",\"47\",\"037\"],\\n[\"0\",\"3895\",\"220\",\"47\",\"037\"],\\n[\"0\",\"3005\",\"230\",\"47\",\"037\"],\\n[\"0\",\"2382\",\"241\",\"47\",\"037\"],\\n[\"0\",\"786\",\"242\",\"47\",\"037\"],\\n[\"0\",\"524\",\"251\",\"47\",\"037\"],\\n[\"0\",\"134\",\"252\",\"47\",\"037\"],\\n[\"0\",\"49\",\"254\",\"47\",\"037\"],\\n[\"0\",\"25\",\"260\",\"47\",\"037\"],\\n[\"0\",\"12\",\"262\",\"47\",\"037\"],\\n[\"0\",\"9\",\"263\",\"47\",\"037\"]]'"
      ]
     },
     "execution_count": 11,
     "metadata": {},
     "output_type": "execute_result"
    }
   ],
   "source": [
    "response.text"
   ]
  },
  {
   "cell_type": "code",
   "execution_count": 12,
   "id": "cc5ba095",
   "metadata": {},
   "outputs": [
    {
     "data": {
      "text/html": [
       "<div>\n",
       "<style scoped>\n",
       "    .dataframe tbody tr th:only-of-type {\n",
       "        vertical-align: middle;\n",
       "    }\n",
       "\n",
       "    .dataframe tbody tr th {\n",
       "        vertical-align: top;\n",
       "    }\n",
       "\n",
       "    .dataframe thead th {\n",
       "        text-align: right;\n",
       "    }\n",
       "</style>\n",
       "<table border=\"1\" class=\"dataframe\">\n",
       "  <thead>\n",
       "    <tr style=\"text-align: right;\">\n",
       "      <th></th>\n",
       "      <th>EMP</th>\n",
       "      <th>ESTAB</th>\n",
       "      <th>EMPSZES</th>\n",
       "      <th>state</th>\n",
       "      <th>county</th>\n",
       "    </tr>\n",
       "  </thead>\n",
       "  <tbody>\n",
       "    <tr>\n",
       "      <th>0</th>\n",
       "      <td>445200</td>\n",
       "      <td>21052</td>\n",
       "      <td>001</td>\n",
       "      <td>47</td>\n",
       "      <td>037</td>\n",
       "    </tr>\n",
       "    <tr>\n",
       "      <th>1</th>\n",
       "      <td>0</td>\n",
       "      <td>10252</td>\n",
       "      <td>210</td>\n",
       "      <td>47</td>\n",
       "      <td>037</td>\n",
       "    </tr>\n",
       "    <tr>\n",
       "      <th>2</th>\n",
       "      <td>0</td>\n",
       "      <td>3895</td>\n",
       "      <td>220</td>\n",
       "      <td>47</td>\n",
       "      <td>037</td>\n",
       "    </tr>\n",
       "    <tr>\n",
       "      <th>3</th>\n",
       "      <td>0</td>\n",
       "      <td>3005</td>\n",
       "      <td>230</td>\n",
       "      <td>47</td>\n",
       "      <td>037</td>\n",
       "    </tr>\n",
       "    <tr>\n",
       "      <th>4</th>\n",
       "      <td>0</td>\n",
       "      <td>2382</td>\n",
       "      <td>241</td>\n",
       "      <td>47</td>\n",
       "      <td>037</td>\n",
       "    </tr>\n",
       "    <tr>\n",
       "      <th>5</th>\n",
       "      <td>0</td>\n",
       "      <td>786</td>\n",
       "      <td>242</td>\n",
       "      <td>47</td>\n",
       "      <td>037</td>\n",
       "    </tr>\n",
       "    <tr>\n",
       "      <th>6</th>\n",
       "      <td>0</td>\n",
       "      <td>524</td>\n",
       "      <td>251</td>\n",
       "      <td>47</td>\n",
       "      <td>037</td>\n",
       "    </tr>\n",
       "    <tr>\n",
       "      <th>7</th>\n",
       "      <td>0</td>\n",
       "      <td>134</td>\n",
       "      <td>252</td>\n",
       "      <td>47</td>\n",
       "      <td>037</td>\n",
       "    </tr>\n",
       "    <tr>\n",
       "      <th>8</th>\n",
       "      <td>0</td>\n",
       "      <td>49</td>\n",
       "      <td>254</td>\n",
       "      <td>47</td>\n",
       "      <td>037</td>\n",
       "    </tr>\n",
       "    <tr>\n",
       "      <th>9</th>\n",
       "      <td>0</td>\n",
       "      <td>25</td>\n",
       "      <td>260</td>\n",
       "      <td>47</td>\n",
       "      <td>037</td>\n",
       "    </tr>\n",
       "    <tr>\n",
       "      <th>10</th>\n",
       "      <td>0</td>\n",
       "      <td>12</td>\n",
       "      <td>262</td>\n",
       "      <td>47</td>\n",
       "      <td>037</td>\n",
       "    </tr>\n",
       "    <tr>\n",
       "      <th>11</th>\n",
       "      <td>0</td>\n",
       "      <td>9</td>\n",
       "      <td>263</td>\n",
       "      <td>47</td>\n",
       "      <td>037</td>\n",
       "    </tr>\n",
       "  </tbody>\n",
       "</table>\n",
       "</div>"
      ],
      "text/plain": [
       "       EMP  ESTAB EMPSZES state county\n",
       "0   445200  21052     001    47    037\n",
       "1        0  10252     210    47    037\n",
       "2        0   3895     220    47    037\n",
       "3        0   3005     230    47    037\n",
       "4        0   2382     241    47    037\n",
       "5        0    786     242    47    037\n",
       "6        0    524     251    47    037\n",
       "7        0    134     252    47    037\n",
       "8        0     49     254    47    037\n",
       "9        0     25     260    47    037\n",
       "10       0     12     262    47    037\n",
       "11       0      9     263    47    037"
      ]
     },
     "execution_count": 12,
     "metadata": {},
     "output_type": "execute_result"
    }
   ],
   "source": [
    "json_to_data_frame(response)"
   ]
  },
  {
   "cell_type": "markdown",
   "id": "04f36838",
   "metadata": {},
   "source": [
    "Making an alias for API Url ease"
   ]
  },
  {
   "cell_type": "code",
   "execution_count": 19,
   "id": "11dfd2ff",
   "metadata": {},
   "outputs": [],
   "source": [
    "fields = \"COUNY\""
   ]
  },
  {
   "cell_type": "markdown",
   "id": "c9db6a43",
   "metadata": {},
   "source": [
    "Making multiple api urls for testing"
   ]
  },
  {
   "cell_type": "code",
   "execution_count": 20,
   "id": "59541433",
   "metadata": {},
   "outputs": [],
   "source": [
    "api_url2 = f\"{base_url}?get={fields}&for=county:{county_code}&in=state:{state_code}&key={api_key}\""
   ]
  },
  {
   "cell_type": "code",
   "execution_count": 21,
   "id": "f2f9783d",
   "metadata": {},
   "outputs": [
    {
     "data": {
      "text/plain": [
       "<Response [400]>"
      ]
     },
     "execution_count": 21,
     "metadata": {},
     "output_type": "execute_result"
    }
   ],
   "source": [
    "response = requests.get(api_url2)\n",
    "response"
   ]
  },
  {
   "cell_type": "code",
   "execution_count": 16,
   "id": "e047bdee",
   "metadata": {},
   "outputs": [
    {
     "data": {
      "text/html": [
       "<div>\n",
       "<style scoped>\n",
       "    .dataframe tbody tr th:only-of-type {\n",
       "        vertical-align: middle;\n",
       "    }\n",
       "\n",
       "    .dataframe tbody tr th {\n",
       "        vertical-align: top;\n",
       "    }\n",
       "\n",
       "    .dataframe thead th {\n",
       "        text-align: right;\n",
       "    }\n",
       "</style>\n",
       "<table border=\"1\" class=\"dataframe\">\n",
       "  <thead>\n",
       "    <tr style=\"text-align: right;\">\n",
       "      <th></th>\n",
       "      <th>EMP</th>\n",
       "      <th>ESTAB</th>\n",
       "      <th>EMPSZES</th>\n",
       "      <th>state</th>\n",
       "      <th>county</th>\n",
       "    </tr>\n",
       "  </thead>\n",
       "  <tbody>\n",
       "    <tr>\n",
       "      <th>0</th>\n",
       "      <td>445200</td>\n",
       "      <td>21052</td>\n",
       "      <td>001</td>\n",
       "      <td>47</td>\n",
       "      <td>037</td>\n",
       "    </tr>\n",
       "    <tr>\n",
       "      <th>1</th>\n",
       "      <td>0</td>\n",
       "      <td>10252</td>\n",
       "      <td>210</td>\n",
       "      <td>47</td>\n",
       "      <td>037</td>\n",
       "    </tr>\n",
       "    <tr>\n",
       "      <th>2</th>\n",
       "      <td>0</td>\n",
       "      <td>3895</td>\n",
       "      <td>220</td>\n",
       "      <td>47</td>\n",
       "      <td>037</td>\n",
       "    </tr>\n",
       "    <tr>\n",
       "      <th>3</th>\n",
       "      <td>0</td>\n",
       "      <td>3005</td>\n",
       "      <td>230</td>\n",
       "      <td>47</td>\n",
       "      <td>037</td>\n",
       "    </tr>\n",
       "    <tr>\n",
       "      <th>4</th>\n",
       "      <td>0</td>\n",
       "      <td>2382</td>\n",
       "      <td>241</td>\n",
       "      <td>47</td>\n",
       "      <td>037</td>\n",
       "    </tr>\n",
       "    <tr>\n",
       "      <th>5</th>\n",
       "      <td>0</td>\n",
       "      <td>786</td>\n",
       "      <td>242</td>\n",
       "      <td>47</td>\n",
       "      <td>037</td>\n",
       "    </tr>\n",
       "    <tr>\n",
       "      <th>6</th>\n",
       "      <td>0</td>\n",
       "      <td>524</td>\n",
       "      <td>251</td>\n",
       "      <td>47</td>\n",
       "      <td>037</td>\n",
       "    </tr>\n",
       "    <tr>\n",
       "      <th>7</th>\n",
       "      <td>0</td>\n",
       "      <td>134</td>\n",
       "      <td>252</td>\n",
       "      <td>47</td>\n",
       "      <td>037</td>\n",
       "    </tr>\n",
       "    <tr>\n",
       "      <th>8</th>\n",
       "      <td>0</td>\n",
       "      <td>49</td>\n",
       "      <td>254</td>\n",
       "      <td>47</td>\n",
       "      <td>037</td>\n",
       "    </tr>\n",
       "    <tr>\n",
       "      <th>9</th>\n",
       "      <td>0</td>\n",
       "      <td>25</td>\n",
       "      <td>260</td>\n",
       "      <td>47</td>\n",
       "      <td>037</td>\n",
       "    </tr>\n",
       "    <tr>\n",
       "      <th>10</th>\n",
       "      <td>0</td>\n",
       "      <td>12</td>\n",
       "      <td>262</td>\n",
       "      <td>47</td>\n",
       "      <td>037</td>\n",
       "    </tr>\n",
       "    <tr>\n",
       "      <th>11</th>\n",
       "      <td>0</td>\n",
       "      <td>9</td>\n",
       "      <td>263</td>\n",
       "      <td>47</td>\n",
       "      <td>037</td>\n",
       "    </tr>\n",
       "  </tbody>\n",
       "</table>\n",
       "</div>"
      ],
      "text/plain": [
       "       EMP  ESTAB EMPSZES state county\n",
       "0   445200  21052     001    47    037\n",
       "1        0  10252     210    47    037\n",
       "2        0   3895     220    47    037\n",
       "3        0   3005     230    47    037\n",
       "4        0   2382     241    47    037\n",
       "5        0    786     242    47    037\n",
       "6        0    524     251    47    037\n",
       "7        0    134     252    47    037\n",
       "8        0     49     254    47    037\n",
       "9        0     25     260    47    037\n",
       "10       0     12     262    47    037\n",
       "11       0      9     263    47    037"
      ]
     },
     "execution_count": 16,
     "metadata": {},
     "output_type": "execute_result"
    }
   ],
   "source": [
    "json_to_data_frame(response)"
   ]
  },
  {
   "cell_type": "code",
   "execution_count": null,
   "id": "b1a1015d",
   "metadata": {},
   "outputs": [],
   "source": []
  }
 ],
 "metadata": {
  "kernelspec": {
   "display_name": "Python 3 (ipykernel)",
   "language": "python",
   "name": "python3"
  },
  "language_info": {
   "codemirror_mode": {
    "name": "ipython",
    "version": 3
   },
   "file_extension": ".py",
   "mimetype": "text/x-python",
   "name": "python",
   "nbconvert_exporter": "python",
   "pygments_lexer": "ipython3",
   "version": "3.10.9"
  }
 },
 "nbformat": 4,
 "nbformat_minor": 5
}
