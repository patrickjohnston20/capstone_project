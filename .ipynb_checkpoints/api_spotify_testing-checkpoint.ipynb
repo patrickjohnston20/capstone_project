{
 "cells": [
  {
   "cell_type": "code",
   "execution_count": 7,
   "id": "0d09021f",
   "metadata": {},
   "outputs": [],
   "source": [
    "import spotipy\n",
    "from spotipy.oauth2 import SpotifyClientCredentials\n",
    "import pandas as pd\n",
    "import json\n",
    "import seaborn as sns\n",
    "import requests\n",
    "import matplotlib.pyplot as plt\n",
    "\n",
    "with open('../data/spotify_credentials.json') as f:\n",
    "    credentials = json.load(f)\n",
    "\n",
    "sp = spotipy.Spotify(auth_manager=SpotifyClientCredentials(client_id=credentials[\"client_id\"],\n",
    "                                                           client_secret=credentials[\"client_secret\"]))\n",
    "\n",
    "                                        \n",
    "                                               \n"
   ]
  },
  {
   "cell_type": "code",
   "execution_count": 8,
   "id": "2dac102c",
   "metadata": {},
   "outputs": [
    {
     "name": "stdout",
     "output_type": "stream",
     "text": [
      "                                             artists  \\\n",
      "0  [{'external_urls': {'spotify': 'https://open.s...   \n",
      "1  [{'external_urls': {'spotify': 'https://open.s...   \n",
      "2  [{'external_urls': {'spotify': 'https://open.s...   \n",
      "3  [{'external_urls': {'spotify': 'https://open.s...   \n",
      "4  [{'external_urls': {'spotify': 'https://open.s...   \n",
      "\n",
      "                                   available_markets  disc_number  \\\n",
      "0  [AR, AU, AT, BE, BO, BR, BG, CA, CL, CO, CR, C...            1   \n",
      "1  [AR, AU, AT, BE, BO, BR, BG, CA, CL, CO, CR, C...            1   \n",
      "2  [AR, AU, AT, BE, BO, BR, BG, CA, CL, CO, CR, C...            1   \n",
      "3  [AR, AU, AT, BE, BO, BR, BG, CA, CL, CO, CR, C...            1   \n",
      "4  [AR, AU, AT, BE, BO, BR, BG, CA, CL, CO, CR, C...            1   \n",
      "\n",
      "   duration_ms  explicit                                      external_urls  \\\n",
      "0       620101     False  {'spotify': 'https://open.spotify.com/track/39...   \n",
      "1       713191     False  {'spotify': 'https://open.spotify.com/track/03...   \n",
      "2       134490     False  {'spotify': 'https://open.spotify.com/track/4q...   \n",
      "3       764456     False  {'spotify': 'https://open.spotify.com/track/2x...   \n",
      "4       189979     False  {'spotify': 'https://open.spotify.com/track/48...   \n",
      "\n",
      "                                                href                      id  \\\n",
      "0  https://api.spotify.com/v1/tracks/39zWYYZStDgW...  39zWYYZStDgWi32sOU9AX4   \n",
      "1  https://api.spotify.com/v1/tracks/03sEzk1VyrUZ...  03sEzk1VyrUZSgyhoQR0LZ   \n",
      "2  https://api.spotify.com/v1/tracks/4qE9yOgBNsAR...  4qE9yOgBNsARadpZTAb6RH   \n",
      "3  https://api.spotify.com/v1/tracks/2xKDKtJBLDPd...  2xKDKtJBLDPd7BF3VmSQQO   \n",
      "4  https://api.spotify.com/v1/tracks/48C0O5CXfQdf...  48C0O5CXfQdfjUCUhOs1YP   \n",
      "\n",
      "   is_local                    name  \\\n",
      "0     False           Fear Inoculum   \n",
      "1     False                  Pneuma   \n",
      "2     False  Litanie contre la Peur   \n",
      "3     False              Invincible   \n",
      "4     False        Legion Inoculant   \n",
      "\n",
      "                                         preview_url  track_number   type  \\\n",
      "0  https://p.scdn.co/mp3-preview/e43f9e6bf1f16125...             1  track   \n",
      "1  https://p.scdn.co/mp3-preview/6d713c027cf22b39...             2  track   \n",
      "2  https://p.scdn.co/mp3-preview/4a709417396a8824...             3  track   \n",
      "3  https://p.scdn.co/mp3-preview/b821c8f6dd86faeb...             4  track   \n",
      "4  https://p.scdn.co/mp3-preview/153f43a4f62094bd...             5  track   \n",
      "\n",
      "                                    uri  \n",
      "0  spotify:track:39zWYYZStDgWi32sOU9AX4  \n",
      "1  spotify:track:03sEzk1VyrUZSgyhoQR0LZ  \n",
      "2  spotify:track:4qE9yOgBNsARadpZTAb6RH  \n",
      "3  spotify:track:2xKDKtJBLDPd7BF3VmSQQO  \n",
      "4  spotify:track:48C0O5CXfQdfjUCUhOs1YP  \n"
     ]
    }
   ],
   "source": [
    "artist = 'Tool'\n",
    "results = sp.search(q=artist, type='artist')\n",
    "tool_artist_id = results['artists']['items'][0]['id']\n",
    "\n",
    "# Retrieve all albums for Tool\n",
    "albums = sp.artist_albums(tool_artist_id, album_type='album')\n",
    "\n",
    "# Store all songs in a list\n",
    "tool_songs = []\n",
    "for album in albums['items']:\n",
    "    tracks = sp.album_tracks(album['id'])\n",
    "    tool_songs.extend(tracks['items'])\n",
    "\n",
    "# Convert the list of songs to a DataFrame\n",
    "df_tool_songs = pd.DataFrame(tool_songs)\n",
    "\n",
    "# Display the DataFrame\n",
    "print(df_tool_songs.head())"
   ]
  },
  {
   "cell_type": "code",
   "execution_count": null,
   "id": "2b892011",
   "metadata": {},
   "outputs": [],
   "source": []
  },
  {
   "cell_type": "code",
   "execution_count": null,
   "id": "d4b92379",
   "metadata": {},
   "outputs": [],
   "source": []
  }
 ],
 "metadata": {
  "kernelspec": {
   "display_name": "Python 3 (ipykernel)",
   "language": "python",
   "name": "python3"
  },
  "language_info": {
   "codemirror_mode": {
    "name": "ipython",
    "version": 3
   },
   "file_extension": ".py",
   "mimetype": "text/x-python",
   "name": "python",
   "nbconvert_exporter": "python",
   "pygments_lexer": "ipython3",
   "version": "3.10.9"
  }
 },
 "nbformat": 4,
 "nbformat_minor": 5
}
