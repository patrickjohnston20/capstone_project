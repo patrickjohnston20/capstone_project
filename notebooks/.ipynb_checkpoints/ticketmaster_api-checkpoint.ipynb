{
 "cells": [
  {
   "cell_type": "code",
   "execution_count": 1,
   "id": "4e42130e",
   "metadata": {},
   "outputs": [],
   "source": [
    "import requests\n",
    "import pandas as pd\n",
    "import matplotlib.pyplot as plt\n",
    "import json\n",
    "from ticketpy import TicketPy"
   ]
  },
  {
   "cell_type": "code",
   "execution_count": 2,
   "id": "f6ad3e8b",
   "metadata": {},
   "outputs": [],
   "source": [
    "pd.options.display.max_columns = None"
   ]
  },
  {
   "cell_type": "code",
   "execution_count": 3,
   "id": "a165eb05",
   "metadata": {},
   "outputs": [],
   "source": [
    "with open(r\"C:\\Users\\patri\\Documents\\nss_main\\nss_dda10\\capstone_project\\patrick_capstone\\data\\ticketmaster_keys.json\") as fi:\n",
    "    credentials = json.load(fi)"
   ]
  },
  {
   "cell_type": "code",
   "execution_count": 4,
   "id": "45036f5b",
   "metadata": {},
   "outputs": [],
   "source": [
    "api_key = credentials[\"ticketmaster_api_key\"]"
   ]
  },
  {
   "cell_type": "code",
   "execution_count": 5,
   "id": "4605387b",
   "metadata": {},
   "outputs": [],
   "source": [
    "def json_to_data_frame(response):\n",
    "    \"\"\"\n",
    "    Convert response to dataframe\n",
    "    \"\"\"\n",
    "    return pd.DataFrame(response.json()[1:], columns=response.json()[0])"
   ]
  },
  {
   "cell_type": "code",
   "execution_count": 6,
   "id": "5b689bd0",
   "metadata": {},
   "outputs": [],
   "source": [
    "base_url = \"https://app.ticketmaster.com/discovery/v2/events.json\""
   ]
  },
  {
   "cell_type": "code",
   "execution_count": 10,
   "id": "095387ec",
   "metadata": {},
   "outputs": [],
   "source": [
    "params = {\n",
    "    \"city\": \"Nashville\",\n",
    "    \"startDateTime\": \"2020-01-01T00:00:00Z\",\n",
    "    \"endDateTime\": \"2021-12-31T23:59:59Z\",\n",
    "    \"size\": 200,  # Adjust the size to fetch more or fewer events per request\n",
    "}\n",
    "\n",
    "all_events = []"
   ]
  }
 ],
 "metadata": {
  "kernelspec": {
   "display_name": "Python 3 (ipykernel)",
   "language": "python",
   "name": "python3"
  },
  "language_info": {
   "codemirror_mode": {
    "name": "ipython",
    "version": 3
   },
   "file_extension": ".py",
   "mimetype": "text/x-python",
   "name": "python",
   "nbconvert_exporter": "python",
   "pygments_lexer": "ipython3",
   "version": "3.10.9"
  }
 },
 "nbformat": 4,
 "nbformat_minor": 5
}
